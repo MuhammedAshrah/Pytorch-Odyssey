{
  "nbformat": 4,
  "nbformat_minor": 0,
  "metadata": {
    "colab": {
      "provenance": []
    },
    "kernelspec": {
      "name": "python3",
      "display_name": "Python 3"
    },
    "language_info": {
      "name": "python"
    }
  },
  "cells": [
    {
      "cell_type": "markdown",
      "source": [
        "# Data Manipulation in PyTorch\n",
        "\n",
        "**Author**: Muhammed Ashrah  \n",
        "**Source Adapted From**: [Dive into Deep Learning (d2l.ai)](https://d2l.ai/index.html)  \n",
        "\n",
        "**Note**: This notebook is adapted from the \"Data Manipulation\" section of the *Dive into Deep Learning* book.\n",
        "\n",
        "This notebook is a hands-on walkthrough meant for learners who are beginning their journey with PyTorch. It introduces key tensor operations, reshaping, indexing, and broadcasting in a beginner-friendly manner.\n",
        "\n",
        "> 💡 The goal is not just to run the code, but to **understand what’s happening behind the scenes**. Feel free to tweak the examples and experiment!\n"
      ],
      "metadata": {
        "id": "t7xlNMKBK0zs"
      }
    },
    {
      "cell_type": "markdown",
      "source": [
        "Let us start by importing PyTorch library with module name torch"
      ],
      "metadata": {
        "id": "CuUWMe6fswSp"
      }
    },
    {
      "cell_type": "code",
      "execution_count": 1,
      "metadata": {
        "id": "6xgRVwz8rwi4"
      },
      "outputs": [],
      "source": [
        "import torch"
      ]
    },
    {
      "cell_type": "markdown",
      "source": [
        "If we want to create a tensor prepopulated with values in a given range such that it begins from 0 and goes upto n-1 , where the number of elements is n, we use the arange() function of the torch module.\n",
        "\n",
        "The default case is int."
      ],
      "metadata": {
        "id": "CHBv44YstIx1"
      }
    },
    {
      "cell_type": "code",
      "source": [
        "# Using the default datatype of int\n",
        "\n",
        "n=12 # Put any number of your choice\n",
        "t1=torch.arange(n)\n",
        "t1"
      ],
      "metadata": {
        "colab": {
          "base_uri": "https://localhost:8080/"
        },
        "id": "snvtHRDzr1yX",
        "outputId": "1f71048d-7429-4142-d3d5-296b264147ba"
      },
      "execution_count": 22,
      "outputs": [
        {
          "output_type": "execute_result",
          "data": {
            "text/plain": [
              "tensor([ 0,  1,  2,  3,  4,  5,  6,  7,  8,  9, 10, 11])"
            ]
          },
          "metadata": {},
          "execution_count": 22
        }
      ]
    },
    {
      "cell_type": "markdown",
      "source": [
        "If we wish to change to float , we can add dtype and set it to torch.float32"
      ],
      "metadata": {
        "id": "CtbQTX26utgd"
      }
    },
    {
      "cell_type": "code",
      "source": [
        "# Changing the datatype using dtype to float\n",
        "\n",
        "n=12 # Put any number of your choice\n",
        "t1=torch.arange(n,dtype=torch.float32)\n",
        "t1"
      ],
      "metadata": {
        "colab": {
          "base_uri": "https://localhost:8080/"
        },
        "id": "oI8ikTEOuDxy",
        "outputId": "37beedca-70d7-4d91-ab93-72fbbdbae556"
      },
      "execution_count": 13,
      "outputs": [
        {
          "output_type": "execute_result",
          "data": {
            "text/plain": [
              "tensor([0., 1., 2., 3., 4., 5., 6., 7., 8., 9.])"
            ]
          },
          "metadata": {},
          "execution_count": 13
        }
      ]
    },
    {
      "cell_type": "markdown",
      "source": [
        "# Number of elements\n",
        "\n",
        "To find the number of elements in a tensor , we use tensorname.numel()"
      ],
      "metadata": {
        "id": "r4Lo2A49uL4d"
      }
    },
    {
      "cell_type": "code",
      "source": [
        "t1.numel()"
      ],
      "metadata": {
        "colab": {
          "base_uri": "https://localhost:8080/"
        },
        "id": "o0YwAKYNscff",
        "outputId": "000fcbab-2c17-4dbb-fe34-7ce0c6966eac"
      },
      "execution_count": 23,
      "outputs": [
        {
          "output_type": "execute_result",
          "data": {
            "text/plain": [
              "12"
            ]
          },
          "metadata": {},
          "execution_count": 23
        }
      ]
    },
    {
      "cell_type": "markdown",
      "source": [
        "# Shape\n",
        "\n",
        "To find the length along each axis of a tensor , we use tensorname.shape"
      ],
      "metadata": {
        "id": "hUzUxVrou_vP"
      }
    },
    {
      "cell_type": "code",
      "source": [
        "print(t1.shape)"
      ],
      "metadata": {
        "colab": {
          "base_uri": "https://localhost:8080/"
        },
        "id": "kJoD7k9gsgA7",
        "outputId": "c3ec566d-adf6-432e-f9dc-c79b87f93ebc"
      },
      "execution_count": 14,
      "outputs": [
        {
          "output_type": "stream",
          "name": "stdout",
          "text": [
            "torch.Size([10])\n"
          ]
        }
      ]
    },
    {
      "cell_type": "markdown",
      "source": [
        "# Reshape\n",
        "\n",
        "We can reshape a tensor into the desired form"
      ],
      "metadata": {
        "id": "BPbnDof1xBm3"
      }
    },
    {
      "cell_type": "code",
      "source": [
        "t2=t1.reshape(3,4)\n",
        "t2"
      ],
      "metadata": {
        "colab": {
          "base_uri": "https://localhost:8080/"
        },
        "id": "0uzGOaenxKq8",
        "outputId": "3fc32da2-5727-42fc-cb3c-e39492cbc9b2"
      },
      "execution_count": 25,
      "outputs": [
        {
          "output_type": "execute_result",
          "data": {
            "text/plain": [
              "tensor([[ 0,  1,  2,  3],\n",
              "        [ 4,  5,  6,  7],\n",
              "        [ 8,  9, 10, 11]])"
            ]
          },
          "metadata": {},
          "execution_count": 25
        }
      ]
    },
    {
      "cell_type": "markdown",
      "source": [
        "It is not neccessary to provide exact dimensions in all axis . We could have achieved the same result by providing only one exact value in reshape while setting the other to -1"
      ],
      "metadata": {
        "id": "ZWJHs-V6xqfF"
      }
    },
    {
      "cell_type": "code",
      "source": [
        "t3=t1.reshape(3,-1)\n",
        "t3"
      ],
      "metadata": {
        "colab": {
          "base_uri": "https://localhost:8080/"
        },
        "id": "rWv1d3Q6x9mQ",
        "outputId": "87094db1-3821-425d-cf9c-92c8e2911e75"
      },
      "execution_count": 28,
      "outputs": [
        {
          "output_type": "execute_result",
          "data": {
            "text/plain": [
              "tensor([[ 0,  1,  2,  3],\n",
              "        [ 4,  5,  6,  7],\n",
              "        [ 8,  9, 10, 11]])"
            ]
          },
          "metadata": {},
          "execution_count": 28
        }
      ]
    },
    {
      "cell_type": "code",
      "source": [
        "t4=t1.reshape(-1,4)\n",
        "t4"
      ],
      "metadata": {
        "colab": {
          "base_uri": "https://localhost:8080/"
        },
        "id": "9Xy7d0b4yD9M",
        "outputId": "15211fb2-bfae-4bc8-8e62-db6531dcd6c5"
      },
      "execution_count": 29,
      "outputs": [
        {
          "output_type": "execute_result",
          "data": {
            "text/plain": [
              "tensor([[ 0,  1,  2,  3],\n",
              "        [ 4,  5,  6,  7],\n",
              "        [ 8,  9, 10, 11]])"
            ]
          },
          "metadata": {},
          "execution_count": 29
        }
      ]
    },
    {
      "cell_type": "markdown",
      "source": [
        "# Tensors initialized to 0 and 1\n",
        "\n",
        "We often need tensors intialized to value 0 or 1 by default in all elements. We can use torch.zeros and torch.ones for creating such tensors with all  values intialized to 0 and 1 respectively"
      ],
      "metadata": {
        "id": "GbNYg2bSyboA"
      }
    },
    {
      "cell_type": "code",
      "source": [
        "t5=torch.zeros(2,4) # any value of your choice greater than 0\n",
        "t5"
      ],
      "metadata": {
        "colab": {
          "base_uri": "https://localhost:8080/"
        },
        "id": "35cdCRg4yw70",
        "outputId": "217a0ded-5d04-4627-9a24-930fb38c461f"
      },
      "execution_count": 37,
      "outputs": [
        {
          "output_type": "execute_result",
          "data": {
            "text/plain": [
              "tensor([[0., 0., 0., 0.],\n",
              "        [0., 0., 0., 0.]])"
            ]
          },
          "metadata": {},
          "execution_count": 37
        }
      ]
    },
    {
      "cell_type": "code",
      "source": [
        "t6=torch.ones(2,4) # any value of your choice greater than 0\n",
        "t6"
      ],
      "metadata": {
        "colab": {
          "base_uri": "https://localhost:8080/"
        },
        "id": "k7GaPp6Ey7Vq",
        "outputId": "d32d84d4-57c5-47d7-f13d-466cb0b80636"
      },
      "execution_count": 41,
      "outputs": [
        {
          "output_type": "execute_result",
          "data": {
            "text/plain": [
              "tensor([[1., 1., 1., 1.],\n",
              "        [1., 1., 1., 1.]])"
            ]
          },
          "metadata": {},
          "execution_count": 41
        }
      ]
    },
    {
      "cell_type": "markdown",
      "source": [
        "# Construct tensors by supplying the exact values\n",
        "\n",
        "We can initialize a tensor by providing the exact values as well."
      ],
      "metadata": {
        "id": "ze5r0NMxvu_Q"
      }
    },
    {
      "cell_type": "code",
      "source": [
        "y=torch.tensor([[1,2,3,4],[2,1,3,4],[5,6,7,8]])\n",
        "y"
      ],
      "metadata": {
        "colab": {
          "base_uri": "https://localhost:8080/"
        },
        "id": "eKhnDtXLvJYW",
        "outputId": "bb390565-3e4e-4911-9868-8fda7235c3f2"
      },
      "execution_count": 17,
      "outputs": [
        {
          "output_type": "execute_result",
          "data": {
            "text/plain": [
              "tensor([[1, 2, 3, 4],\n",
              "        [2, 1, 3, 4],\n",
              "        [5, 6, 7, 8]])"
            ]
          },
          "metadata": {},
          "execution_count": 17
        }
      ]
    },
    {
      "cell_type": "markdown",
      "source": [
        "  We can see that y is stored as a matrix of 3 rows and 4 columns. So the shape of the tensor will be 3,4"
      ],
      "metadata": {
        "id": "Tl5MbP3dv5a2"
      }
    },
    {
      "cell_type": "code",
      "source": [
        "y.shape"
      ],
      "metadata": {
        "colab": {
          "base_uri": "https://localhost:8080/"
        },
        "id": "o9L_kkuQwJK-",
        "outputId": "b6d5af16-849f-43a6-c27d-5379937e5bb9"
      },
      "execution_count": 18,
      "outputs": [
        {
          "output_type": "execute_result",
          "data": {
            "text/plain": [
              "torch.Size([3, 4])"
            ]
          },
          "metadata": {},
          "execution_count": 18
        }
      ]
    },
    {
      "cell_type": "code",
      "source": [
        "y.numel()"
      ],
      "metadata": {
        "colab": {
          "base_uri": "https://localhost:8080/"
        },
        "id": "CVHqhAL1wLdY",
        "outputId": "abe177d6-1e24-4ef2-f0e8-b643cb09f264"
      },
      "execution_count": 19,
      "outputs": [
        {
          "output_type": "execute_result",
          "data": {
            "text/plain": [
              "12"
            ]
          },
          "metadata": {},
          "execution_count": 19
        }
      ]
    },
    {
      "cell_type": "markdown",
      "source": [
        "# Slicing"
      ],
      "metadata": {
        "id": "yhNx1Kj80XuG"
      }
    },
    {
      "cell_type": "markdown",
      "source": [
        "Tensor starts from index 0 upto length-1.\n",
        "\n",
        "We can slice a tensor using Tensorname[start : stop]. This wil include all values from the start but does not include the stop value"
      ],
      "metadata": {
        "id": "3-MqHL2o0bO_"
      }
    },
    {
      "cell_type": "code",
      "source": [
        "t7=torch.tensor([[1,2,3,4],[5,6,7,8],[8,9,7,6]])\n",
        "t7"
      ],
      "metadata": {
        "colab": {
          "base_uri": "https://localhost:8080/"
        },
        "id": "ZgBQKRFr1IZW",
        "outputId": "13255c6b-b23d-4cac-f2e5-0207c79d5bf8"
      },
      "execution_count": 42,
      "outputs": [
        {
          "output_type": "execute_result",
          "data": {
            "text/plain": [
              "tensor([[1, 2, 3, 4],\n",
              "        [5, 6, 7, 8],\n",
              "        [8, 9, 7, 6]])"
            ]
          },
          "metadata": {},
          "execution_count": 42
        }
      ]
    },
    {
      "cell_type": "code",
      "source": [
        "t7[0:1]"
      ],
      "metadata": {
        "colab": {
          "base_uri": "https://localhost:8080/"
        },
        "id": "TKRA1v5p1Xjb",
        "outputId": "336b0052-51cb-4865-df85-87829c01e25c"
      },
      "execution_count": 44,
      "outputs": [
        {
          "output_type": "execute_result",
          "data": {
            "text/plain": [
              "tensor([[1, 2, 3, 4]])"
            ]
          },
          "metadata": {},
          "execution_count": 44
        }
      ]
    },
    {
      "cell_type": "code",
      "source": [
        "t7[0:2]"
      ],
      "metadata": {
        "colab": {
          "base_uri": "https://localhost:8080/"
        },
        "id": "MQEicrls1eLb",
        "outputId": "34a1ae03-11a4-4f49-820d-13ef37632256"
      },
      "execution_count": 45,
      "outputs": [
        {
          "output_type": "execute_result",
          "data": {
            "text/plain": [
              "tensor([[1, 2, 3, 4],\n",
              "        [5, 6, 7, 8]])"
            ]
          },
          "metadata": {},
          "execution_count": 45
        }
      ]
    },
    {
      "cell_type": "code",
      "source": [
        "t7[-1]"
      ],
      "metadata": {
        "colab": {
          "base_uri": "https://localhost:8080/"
        },
        "id": "HwT5-YyN1p5I",
        "outputId": "fafda689-a191-4128-bd97-f34cba36b23d"
      },
      "execution_count": 46,
      "outputs": [
        {
          "output_type": "execute_result",
          "data": {
            "text/plain": [
              "tensor([8, 9, 7, 6])"
            ]
          },
          "metadata": {},
          "execution_count": 46
        }
      ]
    },
    {
      "cell_type": "code",
      "source": [
        "t7[-3]"
      ],
      "metadata": {
        "colab": {
          "base_uri": "https://localhost:8080/"
        },
        "id": "hqE-aDoi1vyh",
        "outputId": "24edf66e-d1f5-4663-8acd-099627cec7a0"
      },
      "execution_count": 47,
      "outputs": [
        {
          "output_type": "execute_result",
          "data": {
            "text/plain": [
              "tensor([1, 2, 3, 4])"
            ]
          },
          "metadata": {},
          "execution_count": 47
        }
      ]
    },
    {
      "cell_type": "code",
      "source": [
        "# We can manipulate the tensor to change the values\n",
        "\n",
        "t7[:2]=0  # Here first row with index 0 and second row with index 1 is selected and all elements in the rows are set to 0\n",
        "t7"
      ],
      "metadata": {
        "colab": {
          "base_uri": "https://localhost:8080/"
        },
        "id": "FYRQaOnb2M_T",
        "outputId": "bcd1cf7b-3faf-4186-9c9f-7748ef4bb5fe"
      },
      "execution_count": 53,
      "outputs": [
        {
          "output_type": "execute_result",
          "data": {
            "text/plain": [
              "tensor([[0, 0, 0, 0],\n",
              "        [0, 0, 0, 0],\n",
              "        [8, 9, 7, 6]])"
            ]
          },
          "metadata": {},
          "execution_count": 53
        }
      ]
    },
    {
      "cell_type": "markdown",
      "source": [
        "# Operation on Tensors"
      ],
      "metadata": {
        "id": "zAHJL5JP215U"
      }
    },
    {
      "cell_type": "markdown",
      "source": [
        "#### Element-wise operations"
      ],
      "metadata": {
        "id": "soMN7fEZ26lg"
      }
    },
    {
      "cell_type": "code",
      "source": [
        "t9=torch.tensor([[-1.1,2.2,3.3,4.4],[5.5,6.6,-7.7,8.1],[9.1,10.5,11.7,-12.5]]) # Values according to your choice it can be either int or float\n"
      ],
      "metadata": {
        "id": "PWchSVoy464V"
      },
      "execution_count": 63,
      "outputs": []
    },
    {
      "cell_type": "code",
      "source": [
        "torch.exp(t9) # e^x for each value in input tensor"
      ],
      "metadata": {
        "colab": {
          "base_uri": "https://localhost:8080/"
        },
        "id": "D5opCn7p3dk2",
        "outputId": "0feb2934-807a-4da2-bba4-9d5feb45b91e"
      },
      "execution_count": 64,
      "outputs": [
        {
          "output_type": "execute_result",
          "data": {
            "text/plain": [
              "tensor([[3.3287e-01, 9.0250e+00, 2.7113e+01, 8.1451e+01],\n",
              "        [2.4469e+02, 7.3510e+02, 4.5283e-04, 3.2945e+03],\n",
              "        [8.9553e+03, 3.6316e+04, 1.2057e+05, 3.7267e-06]])"
            ]
          },
          "metadata": {},
          "execution_count": 64
        }
      ]
    },
    {
      "cell_type": "code",
      "source": [
        "torch.abs(t9) # Returns the absolute value of each element . Therefore all the negative values of t9 (-1.1 , -7.7 , -12.5 ) changed to positive ."
      ],
      "metadata": {
        "colab": {
          "base_uri": "https://localhost:8080/"
        },
        "id": "x1txSNUS49iV",
        "outputId": "9843a016-88f6-4ef6-ae6c-59e6712aa135"
      },
      "execution_count": 65,
      "outputs": [
        {
          "output_type": "execute_result",
          "data": {
            "text/plain": [
              "tensor([[ 1.1000,  2.2000,  3.3000,  4.4000],\n",
              "        [ 5.5000,  6.6000,  7.7000,  8.1000],\n",
              "        [ 9.1000, 10.5000, 11.7000, 12.5000]])"
            ]
          },
          "metadata": {},
          "execution_count": 65
        }
      ]
    },
    {
      "cell_type": "code",
      "source": [
        "torch.floor(t9)"
      ],
      "metadata": {
        "colab": {
          "base_uri": "https://localhost:8080/"
        },
        "id": "D6CJ9ZST56RX",
        "outputId": "4a1ffc69-431c-4c5b-e067-df40d6c386f4"
      },
      "execution_count": 66,
      "outputs": [
        {
          "output_type": "execute_result",
          "data": {
            "text/plain": [
              "tensor([[ -2.,   2.,   3.,   4.],\n",
              "        [  5.,   6.,  -8.,   8.],\n",
              "        [  9.,  10.,  11., -13.]])"
            ]
          },
          "metadata": {},
          "execution_count": 66
        }
      ]
    },
    {
      "cell_type": "markdown",
      "source": [
        "Explore more in the pytoch documentation\n",
        "[Math operations](https://docs.pytorch.org/docs/stable/torch.html#math-operations)\n"
      ],
      "metadata": {
        "id": "v0fusnKN6rpl"
      }
    },
    {
      "cell_type": "markdown",
      "source": [
        "##### Common arithmetic operations"
      ],
      "metadata": {
        "id": "wBoNr8ds6zDJ"
      }
    },
    {
      "cell_type": "code",
      "source": [
        "X=torch.tensor([[1,2,3,4],[5,6,7,8]])\n",
        "Y=torch.tensor([[2,3,4,5],[6,7,7,9]])\n",
        "X,Y"
      ],
      "metadata": {
        "colab": {
          "base_uri": "https://localhost:8080/"
        },
        "id": "Y9yNYPnZ7oBo",
        "outputId": "3f75c0da-8edf-4405-df48-c92bcd7ddb7a"
      },
      "execution_count": 106,
      "outputs": [
        {
          "output_type": "execute_result",
          "data": {
            "text/plain": [
              "(tensor([[1, 2, 3, 4],\n",
              "         [5, 6, 7, 8]]),\n",
              " tensor([[2, 3, 4, 5],\n",
              "         [6, 7, 7, 9]]))"
            ]
          },
          "metadata": {},
          "execution_count": 106
        }
      ]
    },
    {
      "cell_type": "code",
      "source": [
        "X+Y"
      ],
      "metadata": {
        "colab": {
          "base_uri": "https://localhost:8080/"
        },
        "id": "9qNs9ZHl7zAp",
        "outputId": "afbc508e-9f04-4024-f082-f4cd4b1a9936"
      },
      "execution_count": 107,
      "outputs": [
        {
          "output_type": "execute_result",
          "data": {
            "text/plain": [
              "tensor([[ 3,  5,  7,  9],\n",
              "        [11, 13, 14, 17]])"
            ]
          },
          "metadata": {},
          "execution_count": 107
        }
      ]
    },
    {
      "cell_type": "code",
      "source": [
        "X*Y"
      ],
      "metadata": {
        "colab": {
          "base_uri": "https://localhost:8080/"
        },
        "id": "qWRIVv_e72J-",
        "outputId": "e5449918-5c04-488d-a786-817439a62d43"
      },
      "execution_count": 108,
      "outputs": [
        {
          "output_type": "execute_result",
          "data": {
            "text/plain": [
              "tensor([[ 2,  6, 12, 20],\n",
              "        [30, 42, 49, 72]])"
            ]
          },
          "metadata": {},
          "execution_count": 108
        }
      ]
    },
    {
      "cell_type": "code",
      "source": [
        "X/Y"
      ],
      "metadata": {
        "colab": {
          "base_uri": "https://localhost:8080/"
        },
        "id": "OE80I9uv74Pv",
        "outputId": "5dc23723-13c6-411d-bbe8-fc7bf8a1747a"
      },
      "execution_count": 109,
      "outputs": [
        {
          "output_type": "execute_result",
          "data": {
            "text/plain": [
              "tensor([[0.5000, 0.6667, 0.7500, 0.8000],\n",
              "        [0.8333, 0.8571, 1.0000, 0.8889]])"
            ]
          },
          "metadata": {},
          "execution_count": 109
        }
      ]
    },
    {
      "cell_type": "code",
      "source": [
        "X-Y"
      ],
      "metadata": {
        "colab": {
          "base_uri": "https://localhost:8080/"
        },
        "id": "4p326Sut78aB",
        "outputId": "70187205-08d2-43be-f874-d58fadbf6aff"
      },
      "execution_count": 110,
      "outputs": [
        {
          "output_type": "execute_result",
          "data": {
            "text/plain": [
              "tensor([[-1, -1, -1, -1],\n",
              "        [-1, -1,  0, -1]])"
            ]
          },
          "metadata": {},
          "execution_count": 110
        }
      ]
    },
    {
      "cell_type": "code",
      "source": [
        "X**Y"
      ],
      "metadata": {
        "colab": {
          "base_uri": "https://localhost:8080/"
        },
        "id": "MKstr8ON8CWs",
        "outputId": "2d4ab10d-3029-48c5-c484-7ca81d837fa8"
      },
      "execution_count": 111,
      "outputs": [
        {
          "output_type": "execute_result",
          "data": {
            "text/plain": [
              "tensor([[        1,         8,        81,      1024],\n",
              "        [    15625,    279936,    823543, 134217728]])"
            ]
          },
          "metadata": {},
          "execution_count": 111
        }
      ]
    },
    {
      "cell_type": "code",
      "source": [
        "torch.cat((X,Y),dim=0) # we concatenate two matrices along rows (axis 0). It is default case so even removing dim=0 will provide same result"
      ],
      "metadata": {
        "colab": {
          "base_uri": "https://localhost:8080/"
        },
        "id": "_Oo7q1mf8X0q",
        "outputId": "ce12c465-ca40-4c25-a9b8-e47d688d73f8"
      },
      "execution_count": 112,
      "outputs": [
        {
          "output_type": "execute_result",
          "data": {
            "text/plain": [
              "tensor([[1, 2, 3, 4],\n",
              "        [5, 6, 7, 8],\n",
              "        [2, 3, 4, 5],\n",
              "        [6, 7, 7, 9]])"
            ]
          },
          "metadata": {},
          "execution_count": 112
        }
      ]
    },
    {
      "cell_type": "code",
      "source": [
        "torch.cat((X,Y),dim=1) # we concatenate two matrices along columns (axis 1)"
      ],
      "metadata": {
        "colab": {
          "base_uri": "https://localhost:8080/"
        },
        "id": "T0xdiD_89b0k",
        "outputId": "84d5d0f5-b622-4b69-bcf5-c554e149e167"
      },
      "execution_count": 113,
      "outputs": [
        {
          "output_type": "execute_result",
          "data": {
            "text/plain": [
              "tensor([[1, 2, 3, 4, 2, 3, 4, 5],\n",
              "        [5, 6, 7, 8, 6, 7, 7, 9]])"
            ]
          },
          "metadata": {},
          "execution_count": 113
        }
      ]
    },
    {
      "cell_type": "code",
      "source": [
        "X==Y # We verify whether X[i][j] =Y[i][j]"
      ],
      "metadata": {
        "colab": {
          "base_uri": "https://localhost:8080/"
        },
        "id": "K_wpTqoXCJw-",
        "outputId": "8b224f14-53ad-4ece-dc0b-692cfe4b5079"
      },
      "execution_count": 114,
      "outputs": [
        {
          "output_type": "execute_result",
          "data": {
            "text/plain": [
              "tensor([[False, False, False, False],\n",
              "        [False, False,  True, False]])"
            ]
          },
          "metadata": {},
          "execution_count": 114
        }
      ]
    },
    {
      "cell_type": "code",
      "source": [
        "X<Y # We verify whether X[i][j] < Y[i][j]"
      ],
      "metadata": {
        "colab": {
          "base_uri": "https://localhost:8080/"
        },
        "id": "o-BEgTYIKJx4",
        "outputId": "37df9f07-2b23-4e83-a2aa-8c36ea4d409a"
      },
      "execution_count": 161,
      "outputs": [
        {
          "output_type": "execute_result",
          "data": {
            "text/plain": [
              "tensor([[ True,  True,  True,  True],\n",
              "        [ True,  True, False,  True]])"
            ]
          },
          "metadata": {},
          "execution_count": 161
        }
      ]
    },
    {
      "cell_type": "code",
      "source": [
        "a=X.sum() # Sum of all elements in X . Returns a tensor with one element\n",
        "print(a,type(a),sep=\"\\n\")"
      ],
      "metadata": {
        "colab": {
          "base_uri": "https://localhost:8080/"
        },
        "id": "EXj8p_AJCnWc",
        "outputId": "45850a1d-e479-4a8d-8129-f3a29e3a527c"
      },
      "execution_count": 121,
      "outputs": [
        {
          "output_type": "stream",
          "name": "stdout",
          "text": [
            "tensor(36)\n",
            "<class 'torch.Tensor'>\n"
          ]
        }
      ]
    },
    {
      "cell_type": "markdown",
      "source": [
        "##### Broadcasting"
      ],
      "metadata": {
        "id": "nqSJ3E0PDqv5"
      }
    },
    {
      "cell_type": "code",
      "source": [
        "# Even when shapes of tensor differ , we can perform arithmetic operations if the size is m X n and n X p\n",
        "Z=torch.tensor([1,2,3,4])\n",
        "print(X.shape)\n",
        "print(Z.shape)\n",
        "print(X+Z)"
      ],
      "metadata": {
        "colab": {
          "base_uri": "https://localhost:8080/"
        },
        "id": "T-sMuZpZDy1F",
        "outputId": "348a2ed3-7b86-4ced-aab3-dc97a7675dad"
      },
      "execution_count": 125,
      "outputs": [
        {
          "output_type": "stream",
          "name": "stdout",
          "text": [
            "torch.Size([2, 4])\n",
            "torch.Size([4])\n",
            "tensor([[ 2,  4,  6,  8],\n",
            "        [ 6,  8, 10, 12]])\n"
          ]
        }
      ]
    },
    {
      "cell_type": "markdown",
      "source": [
        "# In place operations"
      ],
      "metadata": {
        "id": "T3ooprCZFJAc"
      }
    },
    {
      "cell_type": "code",
      "source": [
        "before=id(Z)\n",
        "print(\"before = \",before)\n",
        "Z=Z+X\n",
        "print(\"after= \",id(Z))"
      ],
      "metadata": {
        "colab": {
          "base_uri": "https://localhost:8080/"
        },
        "id": "Iq82mU8OFP9N",
        "outputId": "8ee66c31-e918-4f66-8030-7a412af920f4"
      },
      "execution_count": 127,
      "outputs": [
        {
          "output_type": "stream",
          "name": "stdout",
          "text": [
            "before =  137902232832720\n",
            "after=  137902232845488\n"
          ]
        }
      ]
    },
    {
      "cell_type": "markdown",
      "source": [
        "Thus even we are changing the value of same variable the memory allocation is being changed . This can be a huge concern when we have limited memory"
      ],
      "metadata": {
        "id": "bZxCHkhyFjua"
      }
    },
    {
      "cell_type": "markdown",
      "source": [
        "Method 1 : Using Slicing"
      ],
      "metadata": {
        "id": "fKj5ewGqHVzV"
      }
    },
    {
      "cell_type": "code",
      "source": [
        "A=torch.zeros_like(Z)\n",
        "print(\"id of A before o/p = \",id(A))\n",
        "A[:]=Z+X\n",
        "print(\"id of A after o/p = \",id(A))"
      ],
      "metadata": {
        "colab": {
          "base_uri": "https://localhost:8080/"
        },
        "id": "twiJEyipF0xI",
        "outputId": "19e2fc46-d931-43a3-dc02-974bac71cc6c"
      },
      "execution_count": 130,
      "outputs": [
        {
          "output_type": "stream",
          "name": "stdout",
          "text": [
            "id of A before o/p =  137902219804112\n",
            "id of A after o/p =  137902219804112\n"
          ]
        }
      ]
    },
    {
      "cell_type": "markdown",
      "source": [
        "Method 2 : Using +=,-=,*=,/="
      ],
      "metadata": {
        "id": "bCpHWBYwHarj"
      }
    },
    {
      "cell_type": "code",
      "source": [
        "before=id(Z)\n",
        "print(\"before = \",before)\n",
        "Z+=X\n",
        "print(\"after= \",id(Z))"
      ],
      "metadata": {
        "colab": {
          "base_uri": "https://localhost:8080/"
        },
        "id": "I6lrN6OaGiqT",
        "outputId": "8a3a256e-60ca-404f-8171-1f9b775aab18"
      },
      "execution_count": 145,
      "outputs": [
        {
          "output_type": "stream",
          "name": "stdout",
          "text": [
            "before =  10760264\n",
            "after=  137902218816848\n"
          ]
        }
      ]
    },
    {
      "cell_type": "markdown",
      "source": [
        "# Conversion to other python objects"
      ],
      "metadata": {
        "id": "P9ZAyczSIsF3"
      }
    },
    {
      "cell_type": "code",
      "source": [
        "A=Z.numpy()\n",
        "print(type(A))"
      ],
      "metadata": {
        "colab": {
          "base_uri": "https://localhost:8080/"
        },
        "id": "XDsU0XyRIxoN",
        "outputId": "f3bd54b6-e63c-4e00-a29f-aa1121a6eb4c"
      },
      "execution_count": 146,
      "outputs": [
        {
          "output_type": "stream",
          "name": "stdout",
          "text": [
            "<class 'numpy.ndarray'>\n"
          ]
        }
      ]
    },
    {
      "cell_type": "code",
      "source": [
        "B=torch.from_numpy(A)\n",
        "print(type(B))"
      ],
      "metadata": {
        "colab": {
          "base_uri": "https://localhost:8080/"
        },
        "id": "fgJWDwtFI5Fq",
        "outputId": "dbe522bf-d131-46ab-adfd-738652d117f3"
      },
      "execution_count": 150,
      "outputs": [
        {
          "output_type": "stream",
          "name": "stdout",
          "text": [
            "<class 'torch.Tensor'>\n"
          ]
        }
      ]
    },
    {
      "cell_type": "code",
      "source": [
        "C=torch.tensor([1.5]) # only one element tensors can be converted to Python scalars\n",
        "print(C.item())\n",
        "print(int(C))\n",
        "print(float(C))"
      ],
      "metadata": {
        "colab": {
          "base_uri": "https://localhost:8080/"
        },
        "id": "HbvOq8yjJTjS",
        "outputId": "eda89dda-0123-4192-c8ae-d49c27dfd52f"
      },
      "execution_count": 159,
      "outputs": [
        {
          "output_type": "stream",
          "name": "stdout",
          "text": [
            "1.5\n",
            "1\n",
            "1.5\n"
          ]
        }
      ]
    }
  ]
}
