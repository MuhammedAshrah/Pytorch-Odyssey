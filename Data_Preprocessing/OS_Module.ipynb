{
  "nbformat": 4,
  "nbformat_minor": 0,
  "metadata": {
    "colab": {
      "provenance": []
    },
    "kernelspec": {
      "name": "python3",
      "display_name": "Python 3"
    },
    "language_info": {
      "name": "python"
    }
  },
  "cells": [
    {
      "cell_type": "markdown",
      "source": [
        "# Getting Started with the **os** module in Python  \n",
        "\n",
        "**Author:** Muhammed Ashrah\n",
        "\n",
        "This notebook is a hands-on, beginner-focused introduction to Python's built-in `os` module which is a powerful toolset for interacting with the operating system.\n",
        "\n",
        "\n",
        "\n",
        "You’ll learn how to:\n",
        "\n",
        "- Create and manage directories\n",
        "- Build file paths the right way\n",
        "- Write to files from Python\n",
        "- Delete Files and Directories\n",
        "\n",
        "---\n",
        "\n",
        "### 📌 Why this notebook?\n",
        "\n",
        "Understanding how Python interacts with your file system is **essential** - whether you're organizing datasets, logging outputs, or preparing files for ML pipelines.\n",
        "\n",
        "This tutorial keeps things simple, practical, and fully runnable in a Colab environment.\n",
        "\n",
        "> 💡 The goal is not just to run the code, but to **understand what’s happening behind the scenes**. Feel free to tweak the examples and experiment!\n",
        "\n",
        "---\n"
      ],
      "metadata": {
        "id": "VaW5rcLGDTxw"
      }
    },
    {
      "cell_type": "markdown",
      "source": [
        "# Let us begin by a short tutorial about os module which will be useful for data preprocessing tasks"
      ],
      "metadata": {
        "id": "C--Ff4yBn1-m"
      }
    },
    {
      "cell_type": "code",
      "source": [
        "import os"
      ],
      "metadata": {
        "id": "cHrK-aEsoOhi"
      },
      "execution_count": 1,
      "outputs": []
    },
    {
      "cell_type": "markdown",
      "source": [
        "POSIX stands for Portable Operating System Interface. It's a standard defined by IEEE to maintain compatibility between operating systems"
      ],
      "metadata": {
        "id": "tXCXfnsPA8W9"
      }
    },
    {
      "cell_type": "code",
      "source": [
        "os.name"
      ],
      "metadata": {
        "colab": {
          "base_uri": "https://localhost:8080/",
          "height": 36
        },
        "id": "Gl7vlDhaAScB",
        "outputId": "e821568e-c09b-4515-caba-3b8786c9bf1a"
      },
      "execution_count": 2,
      "outputs": [
        {
          "output_type": "execute_result",
          "data": {
            "text/plain": [
              "'posix'"
            ],
            "application/vnd.google.colaboratory.intrinsic+json": {
              "type": "string"
            }
          },
          "metadata": {},
          "execution_count": 2
        }
      ]
    },
    {
      "cell_type": "markdown",
      "source": [
        "# Get current working directory\n"
      ],
      "metadata": {
        "id": "FZjP0E0n1sHV"
      }
    },
    {
      "cell_type": "code",
      "execution_count": 3,
      "metadata": {
        "colab": {
          "base_uri": "https://localhost:8080/",
          "height": 36
        },
        "id": "Qmulg0C4c_zS",
        "outputId": "6e26637f-51e1-4aef-d3c7-9ec0e322fa15"
      },
      "outputs": [
        {
          "output_type": "execute_result",
          "data": {
            "text/plain": [
              "'/content'"
            ],
            "application/vnd.google.colaboratory.intrinsic+json": {
              "type": "string"
            }
          },
          "metadata": {},
          "execution_count": 3
        }
      ],
      "source": [
        "m=os.getcwd()\n",
        "m"
      ]
    },
    {
      "cell_type": "markdown",
      "source": [
        "# Creating a new directory in the existing directory [mkdir method]"
      ],
      "metadata": {
        "id": "QO3e6uCQ1xK4"
      }
    },
    {
      "cell_type": "code",
      "source": [
        "# This can only create a single directory at a time\n",
        "\n",
        "new_directory = \"Study_pycharm1\"\n",
        "path=os.path.join(m,new_directory)\n",
        "os.mkdir(path)"
      ],
      "metadata": {
        "id": "hB9lXQ6gnsVH"
      },
      "execution_count": 5,
      "outputs": []
    },
    {
      "cell_type": "markdown",
      "source": [
        "# Create a new directory recursively"
      ],
      "metadata": {
        "id": "uKj9s_jt18A4"
      }
    },
    {
      "cell_type": "code",
      "source": [
        "# To create multiple directories at the same time\n",
        "# For example we want to create directory /cwd/Superdir/Subdir\n",
        "# If we use mkdir , we would have to do it twice . Once creating superdir and then creating subdir.\n",
        "# However we use makedirs which creates this in one go\n",
        "\n",
        "new_directory = \"Subdir\"\n",
        "n=\"Superdir\"\n",
        "path=os.path.join(m,n,new_directory)\n",
        "os.makedirs(path)\n"
      ],
      "metadata": {
        "id": "d4-8dsXCqlvy"
      },
      "execution_count": 6,
      "outputs": []
    },
    {
      "cell_type": "markdown",
      "source": [
        "# Printing list of all files and directories in the specified directory"
      ],
      "metadata": {
        "id": "a2VsoBYR2Nd9"
      }
    },
    {
      "cell_type": "code",
      "source": [
        "os.listdir() # by default , prints files and directories in the cwd"
      ],
      "metadata": {
        "colab": {
          "base_uri": "https://localhost:8080/"
        },
        "id": "CfUfch6XzKBx",
        "outputId": "e225daf6-f0d9-4ad4-a646-ae13641afeb4"
      },
      "execution_count": 7,
      "outputs": [
        {
          "output_type": "execute_result",
          "data": {
            "text/plain": [
              "['.config', 'Study_pycharm1', 'Superdir', '.ipynb_checkpoints', 'sample_data']"
            ]
          },
          "metadata": {},
          "execution_count": 7
        }
      ]
    },
    {
      "cell_type": "code",
      "source": [
        "# to print files or directories inside the Superdir\n",
        "m=m+\"/\"+n\n",
        "os.listdir(m) # As m=/content/Superdir, now we should expect subdir to be printed based on the above cells that we have run\n"
      ],
      "metadata": {
        "colab": {
          "base_uri": "https://localhost:8080/"
        },
        "id": "iPCPrf0O2nYS",
        "outputId": "a20c0249-5d3c-4eb7-91a7-bd92aabbb0b5"
      },
      "execution_count": 8,
      "outputs": [
        {
          "output_type": "execute_result",
          "data": {
            "text/plain": [
              "['Subdir']"
            ]
          },
          "metadata": {},
          "execution_count": 8
        }
      ]
    },
    {
      "cell_type": "markdown",
      "source": [
        "# Creating a file in a directory"
      ],
      "metadata": {
        "id": "kqsY8ulr4-y3"
      }
    },
    {
      "cell_type": "code",
      "source": [
        "dir_path = \"/content/Superdir/\"\n",
        "file1=\"file_creation_example.txt\"\n",
        "path=os.path.join(dir_path,file1)\n",
        "\n",
        "with open (path,\"w\") as f:\n",
        "  # Caution - Do not put file1 here , instead you have to put full path.\n",
        "  # If you put file1 here , file wil be created in current working directory (/content)\n",
        "\n",
        "  f.write(\"This file was created by me to test how I can create a file in a directory\")\n",
        "\n",
        "print(path)"
      ],
      "metadata": {
        "colab": {
          "base_uri": "https://localhost:8080/"
        },
        "id": "MfjSSbgp74zb",
        "outputId": "24ecd203-3337-423d-e418-5e7c2439e620"
      },
      "execution_count": 9,
      "outputs": [
        {
          "output_type": "stream",
          "name": "stdout",
          "text": [
            "/content/Superdir/file_creation_example.txt\n"
          ]
        }
      ]
    },
    {
      "cell_type": "markdown",
      "source": [
        "### Verifying the file location and contents"
      ],
      "metadata": {
        "id": "ZecDjEvK_G59"
      }
    },
    {
      "cell_type": "code",
      "source": [
        "!ls /content/Superdir # We should see our file and subdir we created earlier\n"
      ],
      "metadata": {
        "colab": {
          "base_uri": "https://localhost:8080/"
        },
        "id": "Y9GBigAl9IpV",
        "outputId": "4bacfc71-0cd2-4af6-be51-6f8e9a4821dd"
      },
      "execution_count": 10,
      "outputs": [
        {
          "output_type": "stream",
          "name": "stdout",
          "text": [
            "file_creation_example.txt  Subdir\n"
          ]
        }
      ]
    },
    {
      "cell_type": "code",
      "source": [
        "!cat  /content/Superdir/file_creation_example.txt # We should see the content we wrote earlier into the file"
      ],
      "metadata": {
        "colab": {
          "base_uri": "https://localhost:8080/"
        },
        "id": "ctOkrQEj-18R",
        "outputId": "58a1a151-e5c2-4c73-e455-5c09c1006768"
      },
      "execution_count": 11,
      "outputs": [
        {
          "output_type": "stream",
          "name": "stdout",
          "text": [
            "This file was created by me to test how I can create a file in a directory"
          ]
        }
      ]
    },
    {
      "cell_type": "markdown",
      "source": [
        "# Deleting a File or a Directory"
      ],
      "metadata": {
        "id": "fKHLk9u8AKfX"
      }
    },
    {
      "cell_type": "code",
      "source": [
        "# Using os.remove(path), remove files\n",
        "os.remove(\"/content/Superdir/file_creation_example.txt\")"
      ],
      "metadata": {
        "id": "Kz4S3aUhBRcB"
      },
      "execution_count": 12,
      "outputs": []
    },
    {
      "cell_type": "code",
      "source": [
        "# Using os.rmdir , remove dir\n",
        "os.rmdir(\"/content/Superdir/Subdir\")"
      ],
      "metadata": {
        "id": "twqmrG7sBj4H"
      },
      "execution_count": 13,
      "outputs": []
    }
  ]
}
