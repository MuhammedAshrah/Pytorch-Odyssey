{
  "nbformat": 4,
  "nbformat_minor": 0,
  "metadata": {
    "colab": {
      "provenance": []
    },
    "kernelspec": {
      "name": "python3",
      "display_name": "Python 3"
    },
    "language_info": {
      "name": "python"
    }
  },
  "cells": [
    {
      "cell_type": "markdown",
      "source": [
        "# Linear Algebra in PyTorch\n",
        "\n",
        "**Author:** Muhammed Ashrah  \n",
        "\n",
        "**Source Adapted From:** Dive into Deep Learning ([d2.ail](https://d2l.ai/))  \n",
        "\n",
        "> 📝 *This notebook is adapted from the \"Linear Algebra\" section of the Dive into Deep Learning book.*\n",
        "\n",
        "This notebook provides a beginner-friendly walkthrough of basic linear algebra concepts using PyTorch.\n",
        "\n",
        "---\n",
        "\n",
        "You'll learn how to:\n",
        "\n",
        "- Represent **vectors** and **matrices** with tensors\n",
        "- Perform operations like **sum**, **mean**, and **transpose**\n",
        "- Understand and compute the **dot product** and **Hadamard product**\n",
        "- Differentiate between **element-wise multiplication** and **matrix multiplication**\n",
        "\n",
        "---\n",
        "\n",
        "\n",
        "> 💡 The goal is not just to run the code, but to understand what’s happening behind the scenes.  \n",
        "Feel free to tweak the examples and experiment!\n"
      ],
      "metadata": {
        "id": "aKbX0xsqgONK"
      }
    },
    {
      "cell_type": "code",
      "execution_count": 1,
      "metadata": {
        "id": "AYsHDuz41Mfs"
      },
      "outputs": [],
      "source": [
        "import torch"
      ]
    },
    {
      "cell_type": "markdown",
      "source": [
        "# Scalar Operations"
      ],
      "metadata": {
        "id": "nMsD17vr2QdP"
      }
    },
    {
      "cell_type": "markdown",
      "source": [
        "##### Creating scalars"
      ],
      "metadata": {
        "id": "IVI2b2QY3Oev"
      }
    },
    {
      "cell_type": "code",
      "source": [
        "a=torch.tensor(5.0)\n",
        "b=torch.tensor(3.0)"
      ],
      "metadata": {
        "id": "1F---C5q1xE0"
      },
      "execution_count": 2,
      "outputs": []
    },
    {
      "cell_type": "code",
      "source": [
        "a.ndim # 0 proves that it is scalar as scalar is tensor of rank 0"
      ],
      "metadata": {
        "colab": {
          "base_uri": "https://localhost:8080/"
        },
        "id": "jUDkl9cc2wB7",
        "outputId": "343176eb-ba19-411a-ed39-4108d726490a"
      },
      "execution_count": 3,
      "outputs": [
        {
          "output_type": "execute_result",
          "data": {
            "text/plain": [
              "0"
            ]
          },
          "metadata": {},
          "execution_count": 3
        }
      ]
    },
    {
      "cell_type": "code",
      "source": [
        "b.ndim # 0 proves that it is scalar as scalar is tensor of rank 0"
      ],
      "metadata": {
        "colab": {
          "base_uri": "https://localhost:8080/"
        },
        "id": "AIcu6T-D2-In",
        "outputId": "0431bd20-4ddd-489f-be72-f18a3ff1cc43"
      },
      "execution_count": 4,
      "outputs": [
        {
          "output_type": "execute_result",
          "data": {
            "text/plain": [
              "0"
            ]
          },
          "metadata": {},
          "execution_count": 4
        }
      ]
    },
    {
      "cell_type": "markdown",
      "source": [
        "##### Operations"
      ],
      "metadata": {
        "id": "IWBuuIrv3ERA"
      }
    },
    {
      "cell_type": "code",
      "source": [
        "a+b # Addition"
      ],
      "metadata": {
        "colab": {
          "base_uri": "https://localhost:8080/"
        },
        "id": "Tsw9EmBY2A6E",
        "outputId": "a2a34a5d-b6a0-47be-af6a-cfc3fbc90827"
      },
      "execution_count": 5,
      "outputs": [
        {
          "output_type": "execute_result",
          "data": {
            "text/plain": [
              "tensor(8.)"
            ]
          },
          "metadata": {},
          "execution_count": 5
        }
      ]
    },
    {
      "cell_type": "code",
      "source": [
        "a-b # Substraction"
      ],
      "metadata": {
        "colab": {
          "base_uri": "https://localhost:8080/"
        },
        "id": "qaNN5pow2CIR",
        "outputId": "edec61af-c3c6-48cc-8a4d-ec2cb6cf82d0"
      },
      "execution_count": 6,
      "outputs": [
        {
          "output_type": "execute_result",
          "data": {
            "text/plain": [
              "tensor(2.)"
            ]
          },
          "metadata": {},
          "execution_count": 6
        }
      ]
    },
    {
      "cell_type": "code",
      "source": [
        "a*b # Multiplication"
      ],
      "metadata": {
        "colab": {
          "base_uri": "https://localhost:8080/"
        },
        "id": "u0XnJ0Wg2Dge",
        "outputId": "dd5b2866-3b2e-4ce5-8ace-5d766f5af12d"
      },
      "execution_count": 7,
      "outputs": [
        {
          "output_type": "execute_result",
          "data": {
            "text/plain": [
              "tensor(15.)"
            ]
          },
          "metadata": {},
          "execution_count": 7
        }
      ]
    },
    {
      "cell_type": "code",
      "source": [
        "a/b # Division"
      ],
      "metadata": {
        "colab": {
          "base_uri": "https://localhost:8080/"
        },
        "id": "7mK0FZV12FHE",
        "outputId": "6f0a3ca0-5102-45ea-88d0-19e0af107230"
      },
      "execution_count": 8,
      "outputs": [
        {
          "output_type": "execute_result",
          "data": {
            "text/plain": [
              "tensor(1.6667)"
            ]
          },
          "metadata": {},
          "execution_count": 8
        }
      ]
    },
    {
      "cell_type": "code",
      "source": [
        "a//b # Integer Division"
      ],
      "metadata": {
        "colab": {
          "base_uri": "https://localhost:8080/"
        },
        "id": "BRtATZIs2HiY",
        "outputId": "1c36906b-0d9e-4cec-ffd9-93335f6c7041"
      },
      "execution_count": 9,
      "outputs": [
        {
          "output_type": "execute_result",
          "data": {
            "text/plain": [
              "tensor(1.)"
            ]
          },
          "metadata": {},
          "execution_count": 9
        }
      ]
    },
    {
      "cell_type": "code",
      "source": [
        "a%b # Remainder"
      ],
      "metadata": {
        "colab": {
          "base_uri": "https://localhost:8080/"
        },
        "id": "3wNu7ULP2K1x",
        "outputId": "c3c694c4-b159-4cc9-9d58-4fdec1180282"
      },
      "execution_count": 10,
      "outputs": [
        {
          "output_type": "execute_result",
          "data": {
            "text/plain": [
              "tensor(2.)"
            ]
          },
          "metadata": {},
          "execution_count": 10
        }
      ]
    },
    {
      "cell_type": "code",
      "source": [
        "a**b # Exponent"
      ],
      "metadata": {
        "colab": {
          "base_uri": "https://localhost:8080/"
        },
        "id": "4zahp3_N2lDl",
        "outputId": "068279b5-8e8f-4e53-eeda-1b1cd3d57f84"
      },
      "execution_count": 11,
      "outputs": [
        {
          "output_type": "execute_result",
          "data": {
            "text/plain": [
              "tensor(125.)"
            ]
          },
          "metadata": {},
          "execution_count": 11
        }
      ]
    },
    {
      "cell_type": "markdown",
      "source": [
        "# Vector\n",
        "\n"
      ],
      "metadata": {
        "id": "otZovG4n3VNM"
      }
    },
    {
      "cell_type": "code",
      "source": [
        "c=torch.arange(3)\n",
        "c.ndim # Dimension should be 1 as vector is tensor of rank 1"
      ],
      "metadata": {
        "colab": {
          "base_uri": "https://localhost:8080/"
        },
        "id": "XugDW8O23a03",
        "outputId": "c7adfbee-73f4-43ca-80cd-808a2369a43e"
      },
      "execution_count": 12,
      "outputs": [
        {
          "output_type": "execute_result",
          "data": {
            "text/plain": [
              "1"
            ]
          },
          "metadata": {},
          "execution_count": 12
        }
      ]
    },
    {
      "cell_type": "code",
      "source": [
        "c # Would contain all elements from (0 to 3) where 3 is not included"
      ],
      "metadata": {
        "colab": {
          "base_uri": "https://localhost:8080/"
        },
        "id": "o-npat_74PVh",
        "outputId": "ef8e9fbd-17a8-40cb-e536-92613f8eba3c"
      },
      "execution_count": 13,
      "outputs": [
        {
          "output_type": "execute_result",
          "data": {
            "text/plain": [
              "tensor([0, 1, 2])"
            ]
          },
          "metadata": {},
          "execution_count": 13
        }
      ]
    },
    {
      "cell_type": "code",
      "source": [
        "c.numel() # alternatively you can use len(c) . But this is only for vectors. However prefer to use numel as it can work with n-dimensional tensors"
      ],
      "metadata": {
        "colab": {
          "base_uri": "https://localhost:8080/"
        },
        "id": "vperoSj54Qye",
        "outputId": "d1bfe19d-f8c1-4267-e548-e693432f8af5"
      },
      "execution_count": 16,
      "outputs": [
        {
          "output_type": "execute_result",
          "data": {
            "text/plain": [
              "3"
            ]
          },
          "metadata": {},
          "execution_count": 16
        }
      ]
    },
    {
      "cell_type": "markdown",
      "source": [
        "# Matrix"
      ],
      "metadata": {
        "id": "dkfh6xf1-aq_"
      }
    },
    {
      "cell_type": "code",
      "source": [
        "d=torch.arange(12).reshape(3,4)  # Matrix of 3 rows and 4 columns\n",
        "d"
      ],
      "metadata": {
        "colab": {
          "base_uri": "https://localhost:8080/"
        },
        "id": "I2FijaPx5i6A",
        "outputId": "d6346fe9-bfbe-4245-c7ac-fb23f450df70"
      },
      "execution_count": 18,
      "outputs": [
        {
          "output_type": "execute_result",
          "data": {
            "text/plain": [
              "tensor([[ 0,  1,  2,  3],\n",
              "        [ 4,  5,  6,  7],\n",
              "        [ 8,  9, 10, 11]])"
            ]
          },
          "metadata": {},
          "execution_count": 18
        }
      ]
    },
    {
      "cell_type": "code",
      "source": [
        "d.T # Transpose"
      ],
      "metadata": {
        "colab": {
          "base_uri": "https://localhost:8080/"
        },
        "id": "xe0VVVtm5yLa",
        "outputId": "4f92a235-82ea-4f3a-bccc-cc7f88dc5912"
      },
      "execution_count": 19,
      "outputs": [
        {
          "output_type": "execute_result",
          "data": {
            "text/plain": [
              "tensor([[ 0,  4,  8],\n",
              "        [ 1,  5,  9],\n",
              "        [ 2,  6, 10],\n",
              "        [ 3,  7, 11]])"
            ]
          },
          "metadata": {},
          "execution_count": 19
        }
      ]
    },
    {
      "cell_type": "markdown",
      "source": [
        "##### Symmetric matrix"
      ],
      "metadata": {
        "id": "CLWOlEyD_naR"
      }
    },
    {
      "cell_type": "code",
      "source": [
        "e=torch.tensor([[1,0,0],[0,1,0],[0,0,1]])\n",
        "print(e==e.T)\n"
      ],
      "metadata": {
        "colab": {
          "base_uri": "https://localhost:8080/"
        },
        "id": "GG018yh1-v3e",
        "outputId": "a0700411-c2b2-466a-f784-dcfad5c3a520"
      },
      "execution_count": 25,
      "outputs": [
        {
          "output_type": "stream",
          "name": "stdout",
          "text": [
            "tensor([[True, True, True],\n",
            "        [True, True, True],\n",
            "        [True, True, True]])\n"
          ]
        }
      ]
    },
    {
      "cell_type": "markdown",
      "source": [
        "# Higher order Tensor"
      ],
      "metadata": {
        "id": "W4E2DgFxAlzl"
      }
    },
    {
      "cell_type": "code",
      "source": [
        "higher_order_tensor=torch.arange(24).reshape(2,3,4)\n",
        "higher_order_tensor"
      ],
      "metadata": {
        "colab": {
          "base_uri": "https://localhost:8080/"
        },
        "id": "bWHy56LEAf0f",
        "outputId": "1ad7f92c-79d3-4909-ff5a-8d4f57477de6"
      },
      "execution_count": 26,
      "outputs": [
        {
          "output_type": "execute_result",
          "data": {
            "text/plain": [
              "tensor([[[ 0,  1,  2,  3],\n",
              "         [ 4,  5,  6,  7],\n",
              "         [ 8,  9, 10, 11]],\n",
              "\n",
              "        [[12, 13, 14, 15],\n",
              "         [16, 17, 18, 19],\n",
              "         [20, 21, 22, 23]]])"
            ]
          },
          "metadata": {},
          "execution_count": 26
        }
      ]
    },
    {
      "cell_type": "markdown",
      "source": [
        "# Tensor Arithmetic"
      ],
      "metadata": {
        "id": "r3pzgCXfA-v3"
      }
    },
    {
      "cell_type": "markdown",
      "source": [
        "Elementwise operations produce outputs that have the same shape as their operands.\n",
        "\n"
      ],
      "metadata": {
        "id": "7hZ2EjaABMX0"
      }
    },
    {
      "cell_type": "code",
      "source": [
        "tensor_A=torch.arange(6).reshape(2,3)\n",
        "tensor_B=tensor_A.clone()\n",
        "tensor_A,tensor_A+tensor_B"
      ],
      "metadata": {
        "colab": {
          "base_uri": "https://localhost:8080/"
        },
        "id": "fahZ0jNkA3PL",
        "outputId": "e57d68dc-7a78-48f7-a2c4-7e13eb4fa033"
      },
      "execution_count": 37,
      "outputs": [
        {
          "output_type": "execute_result",
          "data": {
            "text/plain": [
              "(tensor([[0, 1, 2],\n",
              "         [3, 4, 5]]),\n",
              " tensor([[ 0,  2,  4],\n",
              "         [ 6,  8, 10]]))"
            ]
          },
          "metadata": {},
          "execution_count": 37
        }
      ]
    },
    {
      "cell_type": "markdown",
      "source": [
        "The elementwise product of two matrices is called their Hadamard product.\n",
        "\n",
        "![image.png](data:image/png;base64,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)"
      ],
      "metadata": {
        "id": "NtPhsnBJBz5x"
      }
    },
    {
      "cell_type": "code",
      "source": [
        "tensor_A*tensor_B"
      ],
      "metadata": {
        "colab": {
          "base_uri": "https://localhost:8080/"
        },
        "id": "PMUfMHGxB1zA",
        "outputId": "c56615d9-07bb-4624-ca16-e8c649803f38"
      },
      "execution_count": 38,
      "outputs": [
        {
          "output_type": "execute_result",
          "data": {
            "text/plain": [
              "tensor([[ 0,  1,  4],\n",
              "        [ 9, 16, 25]])"
            ]
          },
          "metadata": {},
          "execution_count": 38
        }
      ]
    },
    {
      "cell_type": "markdown",
      "source": [
        "Multiplying a constant into a matrix"
      ],
      "metadata": {
        "id": "S2_p6fvFD8T-"
      }
    },
    {
      "cell_type": "code",
      "source": [
        "key=3\n",
        "print(tensor_A)\n",
        "tensor_A*=key\n",
        "tensor_A"
      ],
      "metadata": {
        "colab": {
          "base_uri": "https://localhost:8080/"
        },
        "id": "M3jS9gakCsm9",
        "outputId": "d51a82c3-46fe-487b-d044-f6c956d00236"
      },
      "execution_count": 39,
      "outputs": [
        {
          "output_type": "stream",
          "name": "stdout",
          "text": [
            "tensor([[0, 1, 2],\n",
            "        [3, 4, 5]])\n"
          ]
        },
        {
          "output_type": "execute_result",
          "data": {
            "text/plain": [
              "tensor([[ 0,  3,  6],\n",
              "        [ 9, 12, 15]])"
            ]
          },
          "metadata": {},
          "execution_count": 39
        }
      ]
    },
    {
      "cell_type": "markdown",
      "source": [
        "### Sum of a tensor"
      ],
      "metadata": {
        "id": "UYGiMSGxEHE_"
      }
    },
    {
      "cell_type": "code",
      "source": [
        "print(tensor_B)\n",
        "print(tensor_B.sum()) # Prints the sum of all indivdual elements of a matrix"
      ],
      "metadata": {
        "colab": {
          "base_uri": "https://localhost:8080/"
        },
        "id": "bxlsDJWQD67M",
        "outputId": "bc009237-20b7-4f05-8fc5-c50ac55b46d8"
      },
      "execution_count": 40,
      "outputs": [
        {
          "output_type": "stream",
          "name": "stdout",
          "text": [
            "tensor([[0, 1, 2],\n",
            "        [3, 4, 5]])\n",
            "tensor(15)\n"
          ]
        }
      ]
    },
    {
      "cell_type": "markdown",
      "source": [
        "Reducing a matrix along row"
      ],
      "metadata": {
        "id": "0g9bPcMEFbWE"
      }
    },
    {
      "cell_type": "code",
      "source": [
        "# If we want to print sum of columns\n",
        "print(tensor_B.sum(axis=0))"
      ],
      "metadata": {
        "colab": {
          "base_uri": "https://localhost:8080/"
        },
        "id": "orYGjJpTEWNZ",
        "outputId": "72e4a570-f32c-4e1a-ed91-8fb99edaa0fd"
      },
      "execution_count": 42,
      "outputs": [
        {
          "output_type": "stream",
          "name": "stdout",
          "text": [
            "tensor([3, 5, 7])\n"
          ]
        }
      ]
    },
    {
      "cell_type": "markdown",
      "source": [
        "Reducing a matrix along column"
      ],
      "metadata": {
        "id": "_-x7d_fiFgka"
      }
    },
    {
      "cell_type": "code",
      "source": [
        "# If we want to print sum of rows\n",
        "print(tensor_B.sum(axis=1))"
      ],
      "metadata": {
        "colab": {
          "base_uri": "https://localhost:8080/"
        },
        "id": "t8lJqEYVE96h",
        "outputId": "7ddcd869-b9d4-41fb-a5dd-894abc94f935"
      },
      "execution_count": 45,
      "outputs": [
        {
          "output_type": "stream",
          "name": "stdout",
          "text": [
            "tensor([ 3, 12])\n"
          ]
        }
      ]
    },
    {
      "cell_type": "markdown",
      "source": [
        "If we reduce by both row and column , we get the same result as sum"
      ],
      "metadata": {
        "id": "V8SjYoTOFoxD"
      }
    },
    {
      "cell_type": "code",
      "source": [
        "print(tensor_B.sum(axis=(0,1))==tensor_B.sum())"
      ],
      "metadata": {
        "colab": {
          "base_uri": "https://localhost:8080/"
        },
        "id": "bodKiErKGIyk",
        "outputId": "ee212696-4d7b-420f-8858-ebfde5a2df88"
      },
      "execution_count": 47,
      "outputs": [
        {
          "output_type": "stream",
          "name": "stdout",
          "text": [
            "tensor(True)\n"
          ]
        }
      ]
    },
    {
      "cell_type": "markdown",
      "source": [
        "### Calculating mean"
      ],
      "metadata": {
        "id": "ClNbnQi4GcDs"
      }
    },
    {
      "cell_type": "code",
      "source": [
        "# Method 1 - Direct\n",
        "\n",
        "tensor_B.mean(dtype=float)"
      ],
      "metadata": {
        "colab": {
          "base_uri": "https://localhost:8080/"
        },
        "id": "lvVo4KvGGW_r",
        "outputId": "ec9e94b0-794c-446d-aa37-b79bfa76103d"
      },
      "execution_count": 51,
      "outputs": [
        {
          "output_type": "execute_result",
          "data": {
            "text/plain": [
              "tensor(2.5000, dtype=torch.float64)"
            ]
          },
          "metadata": {},
          "execution_count": 51
        }
      ]
    },
    {
      "cell_type": "code",
      "source": [
        "# Method 2 - Under the hood\n",
        "\n",
        "sum=tensor_B.sum()   # First we calculate sum\n",
        "n=tensor_B.numel()   # Next we get number of elements and perfom sum/n to get average\n",
        "print(sum/n)"
      ],
      "metadata": {
        "colab": {
          "base_uri": "https://localhost:8080/"
        },
        "id": "iR1Mua1MGuPr",
        "outputId": "197cc8fe-4252-4cf6-ef86-e56b61f43279"
      },
      "execution_count": 53,
      "outputs": [
        {
          "output_type": "stream",
          "name": "stdout",
          "text": [
            "tensor(2.5000)\n"
          ]
        }
      ]
    },
    {
      "cell_type": "code",
      "source": [
        "# We can also calculate along columns\n",
        "\n",
        "tensor_B.mean(axis=0,dtype=float)"
      ],
      "metadata": {
        "colab": {
          "base_uri": "https://localhost:8080/"
        },
        "id": "TTzndz_HHQuq",
        "outputId": "e62f190a-3edc-4b07-b51f-71beefc8d97c"
      },
      "execution_count": 54,
      "outputs": [
        {
          "output_type": "execute_result",
          "data": {
            "text/plain": [
              "tensor([1.5000, 2.5000, 3.5000], dtype=torch.float64)"
            ]
          },
          "metadata": {},
          "execution_count": 54
        }
      ]
    },
    {
      "cell_type": "code",
      "source": [
        "# We can also calculate along rows\n",
        "\n",
        "tensor_B.mean(axis=1,dtype=float)"
      ],
      "metadata": {
        "colab": {
          "base_uri": "https://localhost:8080/"
        },
        "id": "t3bFxPwGHcGn",
        "outputId": "ffbb224d-cb2c-4e9f-ad32-67c98d64d711"
      },
      "execution_count": 55,
      "outputs": [
        {
          "output_type": "execute_result",
          "data": {
            "text/plain": [
              "tensor([1., 4.], dtype=torch.float64)"
            ]
          },
          "metadata": {},
          "execution_count": 55
        }
      ]
    },
    {
      "cell_type": "markdown",
      "source": [
        "# Dot Product"
      ],
      "metadata": {
        "id": "9-jlYuV9IGKX"
      }
    },
    {
      "cell_type": "code",
      "source": [
        "# Method 1 - Direct\n",
        "\n",
        "X=torch.ones(3,dtype=float)\n",
        "Y=torch.tensor([0,1,2],dtype=float)\n",
        "torch.dot(X,Y)"
      ],
      "metadata": {
        "colab": {
          "base_uri": "https://localhost:8080/"
        },
        "id": "-y0_4W1NIJlw",
        "outputId": "fd40dda1-9f6a-4a9a-e802-1769d4f0466b"
      },
      "execution_count": 59,
      "outputs": [
        {
          "output_type": "execute_result",
          "data": {
            "text/plain": [
              "tensor(3., dtype=torch.float64)"
            ]
          },
          "metadata": {},
          "execution_count": 59
        }
      ]
    },
    {
      "cell_type": "code",
      "source": [
        "# Method 2 - Under the hood\n",
        "torch.sum(X*Y)"
      ],
      "metadata": {
        "colab": {
          "base_uri": "https://localhost:8080/"
        },
        "id": "P8RRc9G0I3Wj",
        "outputId": "7c63b489-b55a-4690-f763-86acb8d168d5"
      },
      "execution_count": 60,
      "outputs": [
        {
          "output_type": "execute_result",
          "data": {
            "text/plain": [
              "tensor(3., dtype=torch.float64)"
            ]
          },
          "metadata": {},
          "execution_count": 60
        }
      ]
    },
    {
      "cell_type": "markdown",
      "source": [
        "# Matrix-Vector Product"
      ],
      "metadata": {
        "id": "_c4c6Q5EP2hX"
      }
    },
    {
      "cell_type": "code",
      "source": [
        "tensor_C=torch.arange(6, dtype=float).reshape(2,3)\n",
        "torch.mv(tensor_C,X)"
      ],
      "metadata": {
        "colab": {
          "base_uri": "https://localhost:8080/"
        },
        "id": "yQSS3CmgP7Uu",
        "outputId": "72aca5c5-8e76-4c78-9e58-05103eab863c"
      },
      "execution_count": 67,
      "outputs": [
        {
          "output_type": "execute_result",
          "data": {
            "text/plain": [
              "tensor([ 3., 12.], dtype=torch.float64)"
            ]
          },
          "metadata": {},
          "execution_count": 67
        }
      ]
    },
    {
      "cell_type": "markdown",
      "source": [
        "Matrix-Matrix Product"
      ],
      "metadata": {
        "id": "jkKNLQ24TkLT"
      }
    },
    {
      "cell_type": "code",
      "source": [
        "tensor_D=torch.arange(9, dtype=float).reshape(3,3)\n",
        "\n",
        "print(torch.mm(tensor_C,tensor_D))\n",
        "print(torch.mm(tensor_C,tensor_D).shape)\n"
      ],
      "metadata": {
        "colab": {
          "base_uri": "https://localhost:8080/"
        },
        "id": "LDguF92uTn5e",
        "outputId": "c941bd1b-2fa6-4515-c64c-6e61d141eec4"
      },
      "execution_count": 71,
      "outputs": [
        {
          "output_type": "stream",
          "name": "stdout",
          "text": [
            "tensor([[15., 18., 21.],\n",
            "        [42., 54., 66.]], dtype=torch.float64)\n",
            "torch.Size([2, 3])\n",
            "tensor([[15., 18., 21.],\n",
            "        [42., 54., 66.]], dtype=torch.float64)\n"
          ]
        }
      ]
    },
    {
      "cell_type": "markdown",
      "source": [
        "# Shortcut for both MV and MM"
      ],
      "metadata": {
        "id": "xxTn4EJOUTW5"
      }
    },
    {
      "cell_type": "code",
      "source": [
        "print(tensor_C@tensor_D)"
      ],
      "metadata": {
        "colab": {
          "base_uri": "https://localhost:8080/"
        },
        "id": "kd4WzksLUOQr",
        "outputId": "9c2c2ec0-425f-486b-8f45-a15603a946ed"
      },
      "execution_count": 72,
      "outputs": [
        {
          "output_type": "stream",
          "name": "stdout",
          "text": [
            "tensor([[15., 18., 21.],\n",
            "        [42., 54., 66.]], dtype=torch.float64)\n"
          ]
        }
      ]
    },
    {
      "cell_type": "markdown",
      "source": [
        "# Norms"
      ],
      "metadata": {
        "id": "wg7XACS1bQ5r"
      }
    },
    {
      "cell_type": "markdown",
      "source": [
        "L2 norm\n",
        "\n",
        "![image.png](data:image/png;base64,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)"
      ],
      "metadata": {
        "id": "zF_LzVVYbWXm"
      }
    },
    {
      "cell_type": "code",
      "source": [
        "u = torch.tensor([3.0, -4.0])\n",
        "torch.norm(u)"
      ],
      "metadata": {
        "colab": {
          "base_uri": "https://localhost:8080/"
        },
        "id": "N0TuVsGkbQYy",
        "outputId": "cee1af79-cf94-4126-eceb-94b78a6c1ad5"
      },
      "execution_count": 73,
      "outputs": [
        {
          "output_type": "execute_result",
          "data": {
            "text/plain": [
              "tensor(5.)"
            ]
          },
          "metadata": {},
          "execution_count": 73
        }
      ]
    },
    {
      "cell_type": "code",
      "source": [
        "v=torch.tensor([[1,2,3],[4,5,6],[7,8,9]],dtype=float)\n",
        "torch.norm(v)"
      ],
      "metadata": {
        "colab": {
          "base_uri": "https://localhost:8080/"
        },
        "id": "1ZgwWb1Ibycm",
        "outputId": "ef4ac2d0-84a1-4127-f83c-529b85926cf9"
      },
      "execution_count": 76,
      "outputs": [
        {
          "output_type": "execute_result",
          "data": {
            "text/plain": [
              "tensor(16.8819, dtype=torch.float64)"
            ]
          },
          "metadata": {},
          "execution_count": 76
        }
      ]
    },
    {
      "cell_type": "markdown",
      "source": [
        "L1 norm\n",
        "\n",
        "![image.png](data:image/png;base64,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)"
      ],
      "metadata": {
        "id": "rv33MG8fcY9A"
      }
    },
    {
      "cell_type": "code",
      "source": [
        "torch.abs(u).sum()"
      ],
      "metadata": {
        "colab": {
          "base_uri": "https://localhost:8080/"
        },
        "id": "H3gnd0zUcWgP",
        "outputId": "05248187-c5f9-41b8-f496-ad1ea83c951b"
      },
      "execution_count": 77,
      "outputs": [
        {
          "output_type": "execute_result",
          "data": {
            "text/plain": [
              "tensor(7.)"
            ]
          },
          "metadata": {},
          "execution_count": 77
        }
      ]
    },
    {
      "cell_type": "code",
      "source": [
        "torch.abs(v).sum()"
      ],
      "metadata": {
        "colab": {
          "base_uri": "https://localhost:8080/"
        },
        "id": "wPNr1iNYdxnW",
        "outputId": "992c11f1-47a9-4ac3-d0d5-fa34136e81fa"
      },
      "execution_count": 78,
      "outputs": [
        {
          "output_type": "execute_result",
          "data": {
            "text/plain": [
              "tensor(45., dtype=torch.float64)"
            ]
          },
          "metadata": {},
          "execution_count": 78
        }
      ]
    }
  ]
}
